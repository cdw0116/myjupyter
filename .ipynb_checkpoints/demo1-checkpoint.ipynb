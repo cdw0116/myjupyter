{
 "cells": [
  {
   "cell_type": "markdown",
   "id": "incident-whale",
   "metadata": {},
   "source": [
    "### 第六章 字符串\n",
    "#### 6.1 字符串是一个序列\n",
    "字符串是一个字符序列。您可以使用括号运算符一次访问一个字符："
   ]
  },
  {
   "cell_type": "code",
   "execution_count": 2,
   "id": "incomplete-custody",
   "metadata": {},
   "outputs": [
    {
     "name": "stdout",
     "output_type": "stream",
     "text": [
      "a\n"
     ]
    }
   ],
   "source": [
    "fruit = 'banana'\n",
    "letter = fruit[1] # 第二条语句从fruit变量中提取索引位置1处的字符，并将其分配给letter变量。\n",
    "print(letter)"
   ]
  },
  {
   "cell_type": "markdown",
   "id": "applied-fleet",
   "metadata": {},
   "source": [
    "括号中的表达式称为索引。索引指示您需要序列中的哪个字符（因此而得名）。但你可能得不到你所期望的：对大多数人来说，“香蕉”的第一个字母是“b”，而不是“a”。但在Python中，索引是字符串开头的偏移量，第一个字母的偏移量为零。所以“b”是“香蕉”的第0个字母（“第0个”），a是第1个字母（“第1个”），而“n”是第2个字母（“第2个”）。"
   ]
  },
  {
   "cell_type": "code",
   "execution_count": 3,
   "id": "further-winning",
   "metadata": {},
   "outputs": [
    {
     "name": "stdout",
     "output_type": "stream",
     "text": [
      "b\n"
     ]
    }
   ],
   "source": [
    "letter = fruit[0]\n",
    "print(letter)"
   ]
  },
  {
   "cell_type": "markdown",
   "id": "adopted-cycling",
   "metadata": {},
   "source": [
    "你可以使用任何表达式（包括变量和运算符）作为索引，但索引的值必须是整数。否则你会得到报错警告。"
   ]
  },
  {
   "cell_type": "code",
   "execution_count": 4,
   "id": "commercial-patient",
   "metadata": {},
   "outputs": [
    {
     "ename": "TypeError",
     "evalue": "string indices must be integers",
     "output_type": "error",
     "traceback": [
      "\u001b[0;31m---------------------------------------------------------------------------\u001b[0m",
      "\u001b[0;31mTypeError\u001b[0m                                 Traceback (most recent call last)",
      "\u001b[0;32m<ipython-input-4-bb89ba6efbbd>\u001b[0m in \u001b[0;36m<module>\u001b[0;34m\u001b[0m\n\u001b[0;32m----> 1\u001b[0;31m \u001b[0mletter\u001b[0m \u001b[0;34m=\u001b[0m \u001b[0mfruit\u001b[0m\u001b[0;34m[\u001b[0m\u001b[0;36m1.5\u001b[0m\u001b[0;34m]\u001b[0m\u001b[0;34m\u001b[0m\u001b[0;34m\u001b[0m\u001b[0m\n\u001b[0m",
      "\u001b[0;31mTypeError\u001b[0m: string indices must be integers"
     ]
    }
   ],
   "source": [
    "letter = fruit[1.5]"
   ]
  },
  {
   "cell_type": "markdown",
   "id": "cellular-flesh",
   "metadata": {},
   "source": [
    "#### 6.2 使用len获取字符串的长度\n",
    "len是一个内置函数，返回字符串中的字符数："
   ]
  },
  {
   "cell_type": "code",
   "execution_count": 1,
   "id": "preceding-viking",
   "metadata": {},
   "outputs": [
    {
     "data": {
      "text/plain": [
       "6"
      ]
     },
     "execution_count": 1,
     "metadata": {},
     "output_type": "execute_result"
    }
   ],
   "source": [
    "fruit = 'banana'\n",
    "len(fruit)"
   ]
  },
  {
   "cell_type": "markdown",
   "id": "conscious-congo",
   "metadata": {},
   "source": [
    "要获取字符串的最后一个字母，您可能会尝试以下操作,但是会报错："
   ]
  },
  {
   "cell_type": "code",
   "execution_count": 2,
   "id": "smaller-rebate",
   "metadata": {},
   "outputs": [
    {
     "ename": "IndexError",
     "evalue": "string index out of range",
     "output_type": "error",
     "traceback": [
      "\u001b[0;31m---------------------------------------------------------------------------\u001b[0m",
      "\u001b[0;31mIndexError\u001b[0m                                Traceback (most recent call last)",
      "\u001b[0;32m<ipython-input-2-4dd85e09c2d1>\u001b[0m in \u001b[0;36m<module>\u001b[0;34m\u001b[0m\n\u001b[1;32m      1\u001b[0m \u001b[0mlength\u001b[0m \u001b[0;34m=\u001b[0m \u001b[0mlen\u001b[0m\u001b[0;34m(\u001b[0m\u001b[0mfruit\u001b[0m\u001b[0;34m)\u001b[0m\u001b[0;34m\u001b[0m\u001b[0;34m\u001b[0m\u001b[0m\n\u001b[0;32m----> 2\u001b[0;31m \u001b[0mlast\u001b[0m \u001b[0;34m=\u001b[0m \u001b[0mfruit\u001b[0m\u001b[0;34m[\u001b[0m\u001b[0mlength\u001b[0m\u001b[0;34m]\u001b[0m\u001b[0;34m\u001b[0m\u001b[0;34m\u001b[0m\u001b[0m\n\u001b[0m",
      "\u001b[0;31mIndexError\u001b[0m: string index out of range"
     ]
    }
   ],
   "source": [
    "length = len(fruit)\n",
    "last = fruit[length]"
   ]
  },
  {
   "cell_type": "markdown",
   "id": "academic-rugby",
   "metadata": {},
   "source": [
    "报错的原因是“香蕉”中没有索引为6的字母。因为字符串的索引是以零开始的，六个字母的编号为0到5。要获得最后一个字符，必须从长度中减去1："
   ]
  },
  {
   "cell_type": "code",
   "execution_count": 3,
   "id": "allied-liverpool",
   "metadata": {},
   "outputs": [
    {
     "name": "stdout",
     "output_type": "stream",
     "text": [
      "a\n"
     ]
    }
   ],
   "source": [
    "last = fruit[length-1]\n",
    "print(last)"
   ]
  },
  {
   "cell_type": "markdown",
   "id": "prescription-sellers",
   "metadata": {},
   "source": [
    "或者，您也可以使用负索引，从字符串末尾向后计数。表达式fruit[-1]产生最后一个字母，fruit[-2]产生倒数第二个字母，依此类推。"
   ]
  },
  {
   "cell_type": "code",
   "execution_count": 4,
   "id": "elegant-transportation",
   "metadata": {},
   "outputs": [
    {
     "name": "stdout",
     "output_type": "stream",
     "text": [
      "a\n",
      "n\n"
     ]
    }
   ],
   "source": [
    "print(fruit[-1])\n",
    "print(fruit[-2])"
   ]
  },
  {
   "cell_type": "markdown",
   "id": "normal-missile",
   "metadata": {},
   "source": [
    "#### 6.3 使用循环遍历字符串\n",
    "很多计算都涉及一次处理一个字符串一个字符。通常他们从开头开始，依次选择每个角色，对它做些什么，然后继续到结尾。这种处理模式称为遍历。编写遍历的一种方法是使用while循环："
   ]
  },
  {
   "cell_type": "code",
   "execution_count": null,
   "id": "reliable-certificate",
   "metadata": {},
   "outputs": [],
   "source": [
    "print('我提交了')"
   ]
  }
 ],
 "metadata": {
  "kernelspec": {
   "display_name": "Python 3",
   "language": "python",
   "name": "python3"
  },
  "language_info": {
   "codemirror_mode": {
    "name": "ipython",
    "version": 3
   },
   "file_extension": ".py",
   "mimetype": "text/x-python",
   "name": "python",
   "nbconvert_exporter": "python",
   "pygments_lexer": "ipython3",
   "version": "3.7.10"
  }
 },
 "nbformat": 4,
 "nbformat_minor": 5
}
